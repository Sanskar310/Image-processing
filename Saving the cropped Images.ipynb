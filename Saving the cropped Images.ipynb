{
 "cells": [
  {
   "cell_type": "code",
   "execution_count": 26,
   "id": "9e73b6be",
   "metadata": {},
   "outputs": [],
   "source": [
    "import cv2 as cv\n",
    "import numpy as np\n",
    "import os\n",
    "import time"
   ]
  },
  {
   "cell_type": "code",
   "execution_count": 3,
   "id": "c76a5563",
   "metadata": {},
   "outputs": [
    {
     "data": {
      "text/plain": [
       "'C:\\\\Users\\\\jp601\\\\Saving Cropped Images'"
      ]
     },
     "execution_count": 3,
     "metadata": {},
     "output_type": "execute_result"
    }
   ],
   "source": [
    "os.getcwd()"
   ]
  },
  {
   "cell_type": "markdown",
   "id": "685d9053",
   "metadata": {},
   "source": [
    "# Saving the image"
   ]
  },
  {
   "cell_type": "code",
   "execution_count": null,
   "id": "d538311d",
   "metadata": {},
   "outputs": [],
   "source": [
    "face_cascade = cv.CascadeClassifier('haarcascade_frontalface_default.xml')\n",
    "\n",
    "cap = cv.VideoCapture(0)\n",
    "\n",
    "while True:\n",
    "    ret, frame = cap.read()\n",
    "    frame = cv.flip(frame,1)\n",
    "    gray = cv.cvtColor(frame, cv.COLOR_BGR2GRAY)\n",
    "    \n",
    "    faces = face_cascade.detectMultiScale(gray,1.5,5)\n",
    "    \n",
    "    for(x,y,w,h) in faces: \n",
    "        roi_gray = gray[y:y+h,x:x+w]\n",
    "        roi_color = frame[y:y+h,x:x+w]\n",
    "        img_item = \"my-image.png\"\n",
    "        cv.imwrite(img_item,roi_color)\n",
    "        \n",
    "        color = (0,255,0)\n",
    "        stroke = 2\n",
    "        cv.rectangle(frame,(x,y),(x+w,y+h),color,stroke)\n",
    "        \n",
    "    cv.imshow('frame',frame)\n",
    "    if cv.waitKey(10) == 27:\n",
    "        break\n",
    "        \n",
    "cap.release()\n",
    "cv.destroyAllWindows()"
   ]
  },
  {
   "cell_type": "markdown",
   "id": "fb7f63b7",
   "metadata": {},
   "source": [
    "# Saving the Images at an Interval of 1 Second."
   ]
  },
  {
   "cell_type": "code",
   "execution_count": 7,
   "id": "02c477b5",
   "metadata": {},
   "outputs": [],
   "source": [
    "# Create the folder to save the images\n",
    "output_folder = \"output_images\"\n",
    "if not os.path.exists(output_folder):\n",
    "    os.makedirs(output_folder)\n",
    "\n",
    "face_cascade = cv.CascadeClassifier('haarcascade_frontalface_default.xml')\n",
    "\n",
    "cap = cv.VideoCapture(0)\n",
    "start_time = time.time()\n",
    "interval = 1  # Interval in seconds\n",
    "\n",
    "while True:\n",
    "    ret, frame = cap.read()\n",
    "    frame = cv.flip(frame, 1)\n",
    "    gray = cv.cvtColor(frame, cv.COLOR_BGR2GRAY)\n",
    "\n",
    "    faces = face_cascade.detectMultiScale(gray, 1.5, 5)\n",
    "\n",
    "    for (x, y, w, h) in faces:\n",
    "        roi_gray = gray[y:y+h, x:x+w]\n",
    "        roi_color = frame[y:y+h, x:x+w]\n",
    "        img_item = os.path.join(output_folder, f\"my-image_{time.time()}.png\")\n",
    "        cv.imwrite(img_item, roi_color)\n",
    "\n",
    "        color = (0, 255, 0)\n",
    "        stroke = 2\n",
    "        cv.rectangle(frame, (x, y), (x+w, y+h), color, stroke)\n",
    "\n",
    "    # Check if the interval has passed\n",
    "    if time.time() - start_time >= interval:\n",
    "        start_time = time.time()\n",
    "        # Save the image in the specified folder\n",
    "\n",
    "    cv.imshow('frame', frame)\n",
    "    if cv.waitKey(10) == 27:\n",
    "        break\n",
    "        \n",
    "cap.release()\n",
    "cv.destroyAllWindows()\n"
   ]
  },
  {
   "cell_type": "code",
   "execution_count": 5,
   "id": "455eccf2",
   "metadata": {},
   "outputs": [
    {
     "data": {
      "text/plain": [
       "1689321309.3945725"
      ]
     },
     "execution_count": 5,
     "metadata": {},
     "output_type": "execute_result"
    }
   ],
   "source": [
    "time.time()"
   ]
  },
  {
   "cell_type": "code",
   "execution_count": 6,
   "id": "96458861",
   "metadata": {},
   "outputs": [
    {
     "data": {
      "text/plain": [
       "1689321318.0526853"
      ]
     },
     "execution_count": 6,
     "metadata": {},
     "output_type": "execute_result"
    }
   ],
   "source": [
    "time.time()"
   ]
  },
  {
   "cell_type": "markdown",
   "id": "1ff13b3a",
   "metadata": {},
   "source": [
    "# Formated code for the same task as above"
   ]
  },
  {
   "cell_type": "code",
   "execution_count": 20,
   "id": "5e4b02bd",
   "metadata": {},
   "outputs": [],
   "source": [
    "# Create the folder to save the images\n",
    "output_folder = \"output_images\"\n",
    "if not os.path.exists(output_folder):\n",
    "    os.makedirs(output_folder)\n",
    "\n",
    "face_cascade = cv.CascadeClassifier('haarcascade_frontalface_default.xml')\n",
    "\n",
    "cap = cv.VideoCapture(0)\n",
    "\n",
    "#Starting time for capturing one image per second\n",
    "start_time = time.time()\n",
    "interval = 1  # Interval in seconds\n",
    "\n",
    "while True:\n",
    "    ret, frame = cap.read()\n",
    "    frame = cv.flip(frame, 1)\n",
    "    gray = cv.cvtColor(frame, cv.COLOR_BGR2GRAY)\n",
    "\n",
    "    faces = face_cascade.detectMultiScale(gray, 1.5, 5)\n",
    "\n",
    "    for (x, y, w, h) in faces:\n",
    "        roi_gray = gray[y:y+h, x:x+w]\n",
    "        roi_color = frame[y:y+h, x:x+w]\n",
    "\n",
    "        elapsed_time = time.time() - start_time\n",
    "\n",
    "        # Check if one second has passed\n",
    "        if elapsed_time >= interval:\n",
    "            img_item = os.path.join(output_folder, f\"my-image_{int(time.time())}.png\")\n",
    "            cv.imwrite(img_item, roi_color)\n",
    "            start_time = time.time()  # Reset the start time\n",
    "\n",
    "        color = (0, 255, 0)\n",
    "        stroke = 2\n",
    "        cv.rectangle(frame, (x, y), (x+w, y+h), color, stroke)\n",
    "\n",
    "    cv.imshow('frame', frame)\n",
    "    if cv.waitKey(10) == 27:\n",
    "        break\n",
    "\n",
    "cap.release()\n",
    "cv.destroyAllWindows()\n"
   ]
  },
  {
   "cell_type": "code",
   "execution_count": 23,
   "id": "8a7921f7",
   "metadata": {},
   "outputs": [
    {
     "data": {
      "text/plain": [
       "0.0486184"
      ]
     },
     "execution_count": 23,
     "metadata": {},
     "output_type": "execute_result"
    }
   ],
   "source": [
    "elapsed_time"
   ]
  },
  {
   "cell_type": "code",
   "execution_count": 11,
   "id": "542003f7",
   "metadata": {},
   "outputs": [
    {
     "data": {
      "text/plain": [
       "1689321977.655353"
      ]
     },
     "execution_count": 11,
     "metadata": {},
     "output_type": "execute_result"
    }
   ],
   "source": [
    "start_time"
   ]
  },
  {
   "cell_type": "code",
   "execution_count": 12,
   "id": "a1cee097",
   "metadata": {},
   "outputs": [
    {
     "data": {
      "text/plain": [
       "1689322079.0832763"
      ]
     },
     "execution_count": 12,
     "metadata": {},
     "output_type": "execute_result"
    }
   ],
   "source": [
    "time.time()"
   ]
  },
  {
   "cell_type": "markdown",
   "id": "93478e0e",
   "metadata": {},
   "source": [
    "# Voila Jones Algorithm for the same task"
   ]
  },
  {
   "cell_type": "markdown",
   "id": "e395e15d",
   "metadata": {},
   "source": [
    "The Viola-Jones algorithm, also known as the Viola-Jones face detection framework, is a popular method for real-time object detection, particularly for face detection. It was introduced by Paul Viola and Michael Jones in 2001. The algorithm is widely used due to its high accuracy and efficiency.\n",
    "\n",
    "The Viola-Jones algorithm combines several key components to achieve robust and fast face detection:\n",
    "\n",
    "1) Haar-like features: Haar-like features are rectangular regions in an image that capture intensity variations. These features are simple and computationally efficient to calculate. Haar-like features can capture characteristics like edges, lines, and textures in an image. The algorithm uses these features to discriminate between facial features and non-face regions.\n",
    "\n",
    "2) Integral images: Integral images are calculated to enable rapid computation of Haar-like features. Integral images allow for the efficient calculation of summed pixel values within any rectangular region of an image, regardless of its size. This helps speed up the feature extraction process.\n",
    "\n",
    "3) Adaboost: The Viola-Jones algorithm employs the Adaboost (Adaptive Boosting) algorithm, which is a machine learning algorithm that iteratively combines weak classifiers to form a strong classifier. Weak classifiers are simple classifiers that make decisions based on a single Haar-like feature. The Adaboost algorithm selects the most informative Haar-like features and assigns weights to them based on their performance. This way, the algorithm creates a strong classifier that can accurately detect faces.\n",
    "\n",
    "4) Cascade classifier: The cascade classifier is an integral part of the Viola-Jones algorithm. It is built by combining multiple stages, where each stage consists of several weak classifiers. Each stage progressively filters out non-face regions, allowing for faster rejection of non-face regions early in the detection process. This hierarchical structure helps to improve the overall efficiency of the face detection algorithm.\n",
    "\n",
    "5) The Viola-Jones algorithm follows a cascading process to quickly detect faces in an image or video stream. It scans the image at multiple scales, using the cascade classifier to filter out non-face regions early. At each scale, the algorithm slides a window across the image, applying Haar-like features and the cascade classifier to determine if a face is present. The algorithm is designed to handle variations in lighting conditions, pose, and scale.\n",
    "\n",
    "The Viola-Jones algorithm revolutionized face detection and became a foundation for many subsequent object detection methods. It has widespread applications in various domains, including computer vision, biometrics, and facial recognition systems."
   ]
  },
  {
   "cell_type": "code",
   "execution_count": 27,
   "id": "ff7e0e42",
   "metadata": {},
   "outputs": [],
   "source": [
    "# Create the folder to save the images\n",
    "output_folder = \"output_images\"\n",
    "if not os.path.exists(output_folder):\n",
    "    os.makedirs(output_folder)\n",
    "\n",
    "# Load the Haar cascade classifier for face detection\n",
    "face_cascade = cv.CascadeClassifier('haarcascade_frontalface_default.xml')\n",
    "\n",
    "cap = cv.VideoCapture(0)\n",
    "\n",
    "#Starting time for capturing one image per second\n",
    "start_time = cv.getTickCount()\n",
    "frame_rate = 1  # Frame rate for capturing images \n",
    "\n",
    "while True:\n",
    "    ret, frame = cap.read()\n",
    "    frame = cv.flip(frame, 1)\n",
    "    gray = cv.cvtColor(frame, cv.COLOR_BGR2GRAY)\n",
    "\n",
    "    faces = face_cascade.detectMultiScale(gray, 1.5, 5)\n",
    "\n",
    "    for (x, y, w, h) in faces:\n",
    "        roi_gray = gray[y:y+h, x:x+w]\n",
    "        roi_color = frame[y:y+h, x:x+w]\n",
    "\n",
    "        elapsed_time = (cv.getTickCount() - start_time) / cv.getTickFrequency()\n",
    "\n",
    "        # Check if one second has passed\n",
    "        if elapsed_time >= 1.0 / frame_rate:\n",
    "            img_item = os.path.join(output_folder, f\"my-image_{cv.getTickCount()}.png\")\n",
    "            cv.imwrite(img_item, roi_color)\n",
    "            start_time = cv.getTickCount()  # Reset the start time\n",
    "\n",
    "        color = (0, 255, 0)\n",
    "        stroke = 2\n",
    "        cv.rectangle(frame, (x, y), (x+w, y+h), color, stroke)\n",
    "\n",
    "    cv.imshow('frame', frame)\n",
    "    if cv.waitKey(10) == 27:\n",
    "        break\n",
    "\n",
    "cap.release()\n",
    "cv.destroyAllWindows()"
   ]
  },
  {
   "cell_type": "code",
   "execution_count": 22,
   "id": "3ec83e99",
   "metadata": {},
   "outputs": [
    {
     "data": {
      "text/plain": [
       "0.0486184"
      ]
     },
     "execution_count": 22,
     "metadata": {},
     "output_type": "execute_result"
    }
   ],
   "source": [
    "elapsed_time"
   ]
  },
  {
   "cell_type": "code",
   "execution_count": 24,
   "id": "33ffcb23",
   "metadata": {},
   "outputs": [
    {
     "data": {
      "text/plain": [
       "1931873829487"
      ]
     },
     "execution_count": 24,
     "metadata": {},
     "output_type": "execute_result"
    }
   ],
   "source": [
    "cv.getTickCount()"
   ]
  },
  {
   "cell_type": "code",
   "execution_count": 25,
   "id": "ba061f46",
   "metadata": {},
   "outputs": [
    {
     "data": {
      "text/plain": [
       "1689335294.4607198"
      ]
     },
     "execution_count": 25,
     "metadata": {},
     "output_type": "execute_result"
    }
   ],
   "source": [
    "time.time()"
   ]
  },
  {
   "cell_type": "code",
   "execution_count": null,
   "id": "6d09839f",
   "metadata": {},
   "outputs": [],
   "source": []
  }
 ],
 "metadata": {
  "kernelspec": {
   "display_name": "Python 3 (ipykernel)",
   "language": "python",
   "name": "python3"
  },
  "language_info": {
   "codemirror_mode": {
    "name": "ipython",
    "version": 3
   },
   "file_extension": ".py",
   "mimetype": "text/x-python",
   "name": "python",
   "nbconvert_exporter": "python",
   "pygments_lexer": "ipython3",
   "version": "3.8.0"
  }
 },
 "nbformat": 4,
 "nbformat_minor": 5
}

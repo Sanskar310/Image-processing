{
 "cells": [
  {
   "cell_type": "code",
   "execution_count": 5,
   "id": "215a2ff8",
   "metadata": {},
   "outputs": [],
   "source": [
    "import numpy as np\n",
    "import cv2 as cv\n",
    "import os\n",
    "from PIL import Image\n",
    "import pickle\n",
    "import face_recognition"
   ]
  },
  {
   "cell_type": "markdown",
   "id": "e3898b39",
   "metadata": {},
   "source": [
    "# Region of Interest"
   ]
  },
  {
   "cell_type": "code",
   "execution_count": null,
   "id": "2563e48c",
   "metadata": {},
   "outputs": [],
   "source": [
    "face_cascade = cv.CascadeClassifier('haarcascade_frontalface_alt2.xml')\n",
    "\n",
    "cap = cv.VideoCapture(0)\n",
    "\n",
    "while True:\n",
    "    ret, frame = cap.read()\n",
    "    frame = cv.flip(frame,1)\n",
    "    gray = cv.cvtColor(frame, cv.COLOR_BGR2GRAY)\n",
    "    \n",
    "    faces = face_cascade.detectMultiScale(gray,1.5,5)\n",
    "    \n",
    "    for(x,y,w,h) in faces: \n",
    "        roi_gray = gray[y:y+h,x:x+w]\n",
    "        roi_color = frame[y:y+h,x:x+w]\n",
    "        img_item = \"my-image.png\"\n",
    "        cv.imwrite(img_item,roi_gray)\n",
    "        \n",
    "        color = (0,255,0)\n",
    "        stroke = 2\n",
    "        cv.rectangle(frame,(x,y),(x+w,y+h),color,stroke)\n",
    "        \n",
    "    cv.imshow('frame',frame)\n",
    "    if cv.waitKey(10) == 27:\n",
    "        break\n",
    "        \n",
    "cap.release()\n",
    "cv.destroyAllWindows()"
   ]
  },
  {
   "cell_type": "markdown",
   "id": "b2dae8d9",
   "metadata": {},
   "source": [
    "# Try to recognize face using LBPH face recognizer but it's not working."
   ]
  },
  {
   "cell_type": "code",
   "execution_count": null,
   "id": "085ec330",
   "metadata": {},
   "outputs": [],
   "source": [
    "BASE_DIR = os.path.dirname(os.path.abspath('FaceRecognition'))\n",
    "\n",
    "image_dir = os.path.join(BASE_DIR,\"images\")\n",
    "\n",
    "\n",
    "face_cascade = cv.CascadeClassifier('haarcascade_frontalface_alt2.xml')\n",
    "recognizer = cv.face.LBPHFaceRecognizer_create()                         \n",
    "\n",
    "current_id = 0\n",
    "label_ids = {}\n",
    "y_labels = []\n",
    "x_trains = []\n",
    "\n",
    "for root,dirs, files in os.walk(image_dir):\n",
    "    for file in files:\n",
    "        if file.endswith(\"png\") or file.endswith(\"jpg\"):\n",
    "            path = os.path.join(root,file)\n",
    "            label = os.path.basename(os.path.dirname(path)).replace(\" \",\"-\").lower()\n",
    "            #print(label,path)\n",
    "            if not label in label_ids:\n",
    "                label_ids[label] = current_id\n",
    "                current_id += 1\n",
    "            id_ = label_ids[label]\n",
    "            #print(label_ids)\n",
    "            \n",
    "            \n",
    "            pil_Image = Image.open(path).convert(\"L\")\n",
    "            image_array = np.array(pil_Image,\"uint8\")\n",
    "            \n",
    "            #print(image_array)\n",
    "            faces = face_cascade.detectMultiScale(image_array,1.5,5)\n",
    "            \n",
    "            for (x,y,w,h) in faces:\n",
    "                roi = image_array[y:y+h,x:x+w]\n",
    "                x_trains.append(roi)\n",
    "                y_labels.append(id_)\n",
    "            \n",
    "with open(\"labels.pickle\",'wb') as f:\n",
    "    pickle.dump(label_ids,f)\n",
    "    \n",
    "recognizer.train(x_train, np.array(y_labels))\n",
    "recognizer.save(\"trainner.yml\")"
   ]
  },
  {
   "cell_type": "code",
   "execution_count": null,
   "id": "dc5b32ee",
   "metadata": {},
   "outputs": [],
   "source": [
    "BASE_DIR"
   ]
  },
  {
   "cell_type": "code",
   "execution_count": null,
   "id": "d3e1e617",
   "metadata": {},
   "outputs": [],
   "source": [
    "os.path.dirname(path)"
   ]
  },
  {
   "cell_type": "code",
   "execution_count": null,
   "id": "392ce4b2",
   "metadata": {},
   "outputs": [],
   "source": [
    "path"
   ]
  },
  {
   "cell_type": "code",
   "execution_count": 3,
   "id": "03f4515c",
   "metadata": {},
   "outputs": [
    {
     "data": {
      "text/plain": [
       "'4.8.0'"
      ]
     },
     "execution_count": 3,
     "metadata": {},
     "output_type": "execute_result"
    }
   ],
   "source": [
    "cv.__version__"
   ]
  },
  {
   "cell_type": "markdown",
   "id": "491832bf",
   "metadata": {},
   "source": [
    "# Recognition using face_recognition library."
   ]
  },
  {
   "cell_type": "code",
   "execution_count": 6,
   "id": "82fdadf7",
   "metadata": {},
   "outputs": [],
   "source": [
    "BASE_DIR = os.path.dirname(os.path.abspath('FaceRecognition'))\n",
    "image_dir = os.path.join(BASE_DIR, \"images\")\n",
    "\n",
    "known_encodings = []\n",
    "y_labels = []\n",
    "\n",
    "for root, dirs, files in os.walk(image_dir):\n",
    "    for file in files:\n",
    "        if file.endswith(\"png\") or file.endswith(\"jpg\"):\n",
    "            path = os.path.join(root, file)\n",
    "            label = os.path.basename(os.path.dirname(path)).replace(\" \", \"-\").lower()\n",
    "            \n",
    "            pil_image = Image.open(path).convert(\"RGB\")\n",
    "            image_array = np.array(pil_image)\n",
    "            \n",
    "            # Use face_recognition to detect faces and compute encodings\n",
    "            face_locations = face_recognition.face_locations(image_array)\n",
    "            face_encodings = face_recognition.face_encodings(image_array, face_locations)\n",
    "            \n",
    "            for face_encoding in face_encodings:\n",
    "                known_encodings.append(face_encoding)\n",
    "                y_labels.append(label)\n",
    "\n",
    "# Save the known encodings and labels to files\n",
    "with open(\"encodings.pickle\", 'wb') as f:\n",
    "    pickle.dump(known_encodings, f)\n",
    "\n",
    "with open(\"labels.pickle\", 'wb') as f:\n",
    "    pickle.dump(y_labels, f)\n"
   ]
  },
  {
   "cell_type": "code",
   "execution_count": 7,
   "id": "8b93b9c5",
   "metadata": {},
   "outputs": [
    {
     "data": {
      "text/plain": [
       "['narendra-modi',\n",
       " 'narendra-modi',\n",
       " 'narendra-modi',\n",
       " 'narendra-modi',\n",
       " 'narendra-modi',\n",
       " 'rohit-sharma',\n",
       " 'rohit-sharma',\n",
       " 'rohit-sharma',\n",
       " 'rohit-sharma',\n",
       " 'rohit-sharma',\n",
       " 'swami-vivekanand',\n",
       " 'swami-vivekanand',\n",
       " 'swami-vivekanand',\n",
       " 'swami-vivekanand',\n",
       " 'swami-vivekanand',\n",
       " 'swami-vivekanand',\n",
       " 'virat-kohli',\n",
       " 'virat-kohli',\n",
       " 'virat-kohli',\n",
       " 'virat-kohli',\n",
       " 'virat-kohli']"
      ]
     },
     "execution_count": 7,
     "metadata": {},
     "output_type": "execute_result"
    }
   ],
   "source": [
    "y_labels"
   ]
  },
  {
   "cell_type": "code",
   "execution_count": null,
   "id": "fce95622",
   "metadata": {},
   "outputs": [],
   "source": [
    "# Load known encodings and labels from files\n",
    "with open(\"encodings.pickle\", 'rb') as f:\n",
    "    known_encodings = pickle.load(f)\n",
    "\n",
    "with open(\"labels.pickle\", 'rb') as f:\n",
    "    y_labels = pickle.load(f)\n",
    "\n",
    "\n",
    "video_capture = cv2.VideoCapture(0)\n",
    "\n",
    "while True:\n",
    "    \n",
    "    ret, frame = video_capture.read()\n",
    "    \n",
    "    frame = cv2.flip(frame,1)\n",
    "\n",
    "    # Convert the image to RGB format\n",
    "    rgb_frame = cv2.cvtColor(frame, cv2.COLOR_BGR2RGB)\n",
    "\n",
    "    # Detect faces in the frame\n",
    "    face_locations = face_recognition.face_locations(rgb_frame)\n",
    "    face_encodings = face_recognition.face_encodings(rgb_frame, face_locations)\n",
    "\n",
    "    # Iterate over detected faces\n",
    "    for face_encoding in face_encodings:\n",
    "        # Compare the face encoding with known encodings\n",
    "        matches = face_recognition.compare_faces(known_encodings, face_encoding)\n",
    "        name = \"Unknown\"\n",
    "\n",
    "        # Check if there is a match\n",
    "        if True in matches:\n",
    "            matched_indices = [i for i, match in enumerate(matches) if match]\n",
    "            labels = [y_labels[i] for i in matched_indices]\n",
    "            name = max(set(labels), key=labels.count)\n",
    "\n",
    "        # Draw rectangle and label on the face\n",
    "        top, right, bottom, left = face_recognition.face_locations(rgb_frame)[0]\n",
    "        cv2.rectangle(frame, (left, top), (right, bottom), (0, 0, 255), 2)\n",
    "        cv2.putText(frame, name, (left, top - 10), cv2.FONT_HERSHEY_SIMPLEX, 0.9, (0, 0, 255), 2)\n",
    "\n",
    "    \n",
    "    cv2.imshow('Face Recognition', frame)\n",
    "\n",
    "    \n",
    "    if cv2.waitKey(1) & 0xFF == ord('q'):\n",
    "        break\n",
    "\n",
    "\n",
    "video_capture.release()\n",
    "cv2.destroyAllWindows()\n"
   ]
  },
  {
   "cell_type": "code",
   "execution_count": null,
   "id": "15710e67",
   "metadata": {},
   "outputs": [],
   "source": []
  }
 ],
 "metadata": {
  "kernelspec": {
   "display_name": "Python 3 (ipykernel)",
   "language": "python",
   "name": "python3"
  },
  "language_info": {
   "codemirror_mode": {
    "name": "ipython",
    "version": 3
   },
   "file_extension": ".py",
   "mimetype": "text/x-python",
   "name": "python",
   "nbconvert_exporter": "python",
   "pygments_lexer": "ipython3",
   "version": "3.8.0"
  }
 },
 "nbformat": 4,
 "nbformat_minor": 5
}

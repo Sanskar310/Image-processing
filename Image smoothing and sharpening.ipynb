{
 "cells": [
  {
   "cell_type": "code",
   "execution_count": 1,
   "id": "a9ce8e4a",
   "metadata": {},
   "outputs": [],
   "source": [
    "import cv2 as cv\n",
    "import numpy as np"
   ]
  },
  {
   "cell_type": "markdown",
   "id": "b77d1ecf",
   "metadata": {},
   "source": [
    "# Image Smoothing"
   ]
  },
  {
   "cell_type": "code",
   "execution_count": 9,
   "id": "05857061",
   "metadata": {},
   "outputs": [],
   "source": [
    "image = cv.imread('Nature.jpg')\n",
    "\n",
    "blurred  = cv.GaussianBlur(image,(5,5),0) #Gaussian Blur\n",
    "\n",
    "medianblur = cv.medianBlur(image,5) #Median Blur\n",
    "\n",
    "bilateralblur = cv.bilateralFilter(image,7,6,6)\n",
    "\n",
    "cv.imshow('original',image)\n",
    "cv.imshow('GaussianBlur',blurred)\n",
    "cv.imshow('medianblur',medianblur)\n",
    "cv.imshow('bilateralblur',bilateralblur)\n",
    "\n",
    "cv.waitKey(0)\n",
    "cv.destroyAllWindows()"
   ]
  },
  {
   "cell_type": "code",
   "execution_count": 2,
   "id": "beb1ec35",
   "metadata": {},
   "outputs": [],
   "source": [
    "# Read the image\n",
    "image = cv.imread('Nature.jpg')\n",
    "\n",
    "# Apply Gaussian blur\n",
    "blurred = cv.GaussianBlur(image, (5, 5), 0)\n",
    "\n",
    "# Apply Laplacian operator\n",
    "laplacian = cv.Laplacian(blurred, cv.CV_8U)\n",
    "\n",
    "# Display the original and smoothed images\n",
    "cv.imshow('Original Image', image)\n",
    "cv.imshow('Smoothed Image', laplacian)\n",
    "cv.waitKey(0)\n",
    "cv.destroyAllWindows()\n"
   ]
  },
  {
   "cell_type": "code",
   "execution_count": null,
   "id": "a99721cb",
   "metadata": {},
   "outputs": [],
   "source": [
    "image.shape"
   ]
  },
  {
   "cell_type": "markdown",
   "id": "93d1758c",
   "metadata": {},
   "source": [
    "# Image Sharpening"
   ]
  },
  {
   "cell_type": "code",
   "execution_count": 6,
   "id": "9ca1c887",
   "metadata": {},
   "outputs": [],
   "source": [
    "#Laplacian Sharpening\n",
    "\n",
    "image = cv.imread('Nature.jpg')\n",
    "\n",
    "\n",
    "blurred = cv.GaussianBlur(image, (3, 3), 0)\n",
    "sharpened = cv.Laplacian(blurred, cv.CV_8U, ksize=3)\n",
    "\n",
    "# Display the original and sharpened images\n",
    "cv.imshow('Original Image', image)\n",
    "cv.imshow('Sharpened Image', sharpened)\n",
    "cv.waitKey(0)\n",
    "cv.destroyAllWindows()\n"
   ]
  },
  {
   "cell_type": "code",
   "execution_count": 8,
   "id": "d92c5e72",
   "metadata": {},
   "outputs": [],
   "source": [
    "# Read the image\n",
    "image = cv.imread('Nature.jpg')\n",
    "\n",
    "# Convert to grayscale\n",
    "gray = cv.cvtColor(image, cv.COLOR_BGR2GRAY)\n",
    "\n",
    "# Apply unsharp masking\n",
    "blurred = cv.GaussianBlur(gray, (5, 5), 0)\n",
    "mask = cv.subtract(gray, blurred)\n",
    "sharpened = cv.add(gray, mask)\n",
    "\n",
    "# Display the original and sharpened images\n",
    "cv.imshow('Original Image', gray)\n",
    "cv.imshow('Sharpened Image', sharpened)\n",
    "cv.waitKey(0)\n",
    "cv.destroyAllWindows()\n"
   ]
  },
  {
   "cell_type": "code",
   "execution_count": 7,
   "id": "19eac830",
   "metadata": {},
   "outputs": [],
   "source": [
    "# Read the image\n",
    "image = cv.imread('Nature.jpg')\n",
    "\n",
    "# Apply unsharp masking\n",
    "blurred = cv.GaussianBlur(image, (5, 5), 0)\n",
    "mask = cv.subtract(image, blurred)\n",
    "sharpened = cv.add(image, mask)\n",
    "\n",
    "# Display the original and sharpened images\n",
    "cv.imshow('Original Image', image)\n",
    "cv.imshow('Sharpened Image', sharpened)\n",
    "cv.waitKey(0)\n",
    "cv.destroyAllWindows()\n"
   ]
  },
  {
   "cell_type": "code",
   "execution_count": null,
   "id": "0362bb3a",
   "metadata": {},
   "outputs": [],
   "source": []
  }
 ],
 "metadata": {
  "kernelspec": {
   "display_name": "Python 3 (ipykernel)",
   "language": "python",
   "name": "python3"
  },
  "language_info": {
   "codemirror_mode": {
    "name": "ipython",
    "version": 3
   },
   "file_extension": ".py",
   "mimetype": "text/x-python",
   "name": "python",
   "nbconvert_exporter": "python",
   "pygments_lexer": "ipython3",
   "version": "3.8.0"
  }
 },
 "nbformat": 4,
 "nbformat_minor": 5
}
